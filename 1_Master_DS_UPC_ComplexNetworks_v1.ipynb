{
  "nbformat": 4,
  "nbformat_minor": 0,
  "metadata": {
    "anaconda-cloud": {},
    "hide_input": false,
    "kernelspec": {
      "display_name": "Python 3",
      "language": "python",
      "name": "python3"
    },
    "language_info": {
      "codemirror_mode": {
        "name": "ipython",
        "version": 3
      },
      "file_extension": ".py",
      "mimetype": "text/x-python",
      "name": "python",
      "nbconvert_exporter": "python",
      "pygments_lexer": "ipython3",
      "version": "3.6.6"
    },
    "colab": {
      "name": "1-Master-DS-UPC-ComplexNetworks-v1.ipynb",
      "provenance": [],
      "collapsed_sections": [],
      "include_colab_link": true
    }
  },
  "cells": [
    {
      "cell_type": "markdown",
      "metadata": {
        "id": "view-in-github",
        "colab_type": "text"
      },
      "source": [
        "<a href=\"https://colab.research.google.com/github/mnldvd/-MiSistemaRecomendacion/blob/master/1_Master_DS_UPC_ComplexNetworks_v1.ipynb\" target=\"_parent\"><img src=\"https://colab.research.google.com/assets/colab-badge.svg\" alt=\"Open In Colab\"/></a>"
      ]
    },
    {
      "cell_type": "markdown",
      "metadata": {
        "id": "_0IMBsd3bsyB"
      },
      "source": [
        "# Lab 1: Sampling nodes and edges\n",
        "\n",
        "You will learn to:\n",
        "* use the networkx package\n",
        "* sample nodes / edges"
      ]
    },
    {
      "cell_type": "markdown",
      "metadata": {
        "id": "1V-Hgwk1bsyF"
      },
      "source": [
        "## 1. The networkx package"
      ]
    },
    {
      "cell_type": "code",
      "metadata": {
        "id": "50RvrThqbsyG"
      },
      "source": [
        "import networkx as nx"
      ],
      "execution_count": null,
      "outputs": []
    },
    {
      "cell_type": "markdown",
      "metadata": {
        "id": "3b1HGITZbsyG"
      },
      "source": [
        "The documentation is available [here](https://networkx.readthedocs.io/en/stable/)."
      ]
    },
    {
      "cell_type": "code",
      "metadata": {
        "id": "hnPg2glmbsyH"
      },
      "source": [
        "import numpy as np"
      ],
      "execution_count": null,
      "outputs": []
    },
    {
      "cell_type": "code",
      "metadata": {
        "id": "AefbCwQUbsyH"
      },
      "source": [
        "import matplotlib.pyplot as plt"
      ],
      "execution_count": null,
      "outputs": []
    },
    {
      "cell_type": "code",
      "metadata": {
        "id": "CqyUS7AbbsyH"
      },
      "source": [
        "import warnings\n",
        "warnings.filterwarnings('ignore')"
      ],
      "execution_count": null,
      "outputs": []
    },
    {
      "cell_type": "markdown",
      "metadata": {
        "id": "PM37wRovbsyH"
      },
      "source": [
        "### First graph"
      ]
    },
    {
      "cell_type": "code",
      "metadata": {
        "id": "jaybGi02bsyI"
      },
      "source": [
        "# Building the graph\n",
        "graph = nx.Graph(name=\"Mi primer grafo\")\n",
        "graph.add_edge(1,2)\n",
        "graph.add_edge(2,3)"
      ],
      "execution_count": null,
      "outputs": []
    },
    {
      "cell_type": "code",
      "metadata": {
        "id": "PjoHOibjbsyI",
        "colab": {
          "base_uri": "https://localhost:8080/",
          "height": 319
        },
        "outputId": "8570f932-16bd-4284-fc0f-7c5575c4eaa1"
      },
      "source": [
        "# Visualization\n",
        "nx.draw(graph, with_labels=True)\n",
        "plt.show()"
      ],
      "execution_count": null,
      "outputs": [
        {
          "output_type": "display_data",
          "data": {
            "image/png": "[encoded data removed]",
            "text/plain": [
              "<Figure size 432x288 with 1 Axes>"
            ]
          },
          "metadata": {
            "tags": []
          }
        }
      ]
    },
    {
      "cell_type": "code",
      "metadata": {
        "id": "sntpbJ4ebsyJ",
        "colab": {
          "base_uri": "https://localhost:8080/"
        },
        "outputId": "8cdfeaf1-b528-49d2-8ea8-39e179be466c"
      },
      "source": [
        "# Summary\n",
        "print(nx.info(graph))"
      ],
      "execution_count": null,
      "outputs": [
        {
          "output_type": "stream",
          "text": [
            "Name: Mi primer grafo\n",
            "Type: Graph\n",
            "Number of nodes: 3\n",
            "Number of edges: 2\n",
            "Average degree:   1.3333\n"
          ],
          "name": "stdout"
        }
      ]
    },
    {
      "cell_type": "code",
      "metadata": {
        "id": "e1r6FfpwbsyJ",
        "colab": {
          "base_uri": "https://localhost:8080/"
        },
        "outputId": "8152029c-72f4-4b12-b36b-1539f9d2fc9a"
      },
      "source": [
        "# List of nodes \n",
        "print(list(graph.nodes()))"
      ],
      "execution_count": null,
      "outputs": [
        {
          "output_type": "stream",
          "text": [
            "[1, 2, 3]\n"
          ],
          "name": "stdout"
        }
      ]
    },
    {
      "cell_type": "code",
      "metadata": {
        "id": "HQA3F1gnbsyJ",
        "colab": {
          "base_uri": "https://localhost:8080/"
        },
        "outputId": "e6e063a2-0325-4885-b59e-5797a61e6711"
      },
      "source": [
        "# Iterator on nodes\n",
        "for n in graph.nodes():\n",
        "  print(n)"
      ],
      "execution_count": null,
      "outputs": [
        {
          "output_type": "stream",
          "text": [
            "1\n",
            "2\n",
            "3\n"
          ],
          "name": "stdout"
        }
      ]
    },
    {
      "cell_type": "code",
      "metadata": {
        "id": "PZKmo-rTbsyJ",
        "colab": {
          "base_uri": "https://localhost:8080/"
        },
        "outputId": "268623d4-cac9-44cb-d3ae-9a4eb96cec12"
      },
      "source": [
        "# First node through the list / the iterator\n",
        "nodes = list(graph.nodes())\n",
        "print(nodes[0])"
      ],
      "execution_count": null,
      "outputs": [
        {
          "output_type": "stream",
          "text": [
            "1\n"
          ],
          "name": "stdout"
        }
      ]
    },
    {
      "cell_type": "code",
      "metadata": {
        "id": "VuxpCJi_bsyK",
        "colab": {
          "base_uri": "https://localhost:8080/"
        },
        "outputId": "6c19154f-fc0b-4207-be44-56f568cc78f1"
      },
      "source": [
        "#Get the second node using the list and the iterator\n",
        "\n",
        "nodes_iter = iter(graph.nodes())\n",
        "print(next(nodes_iter))\n",
        "print(next(nodes_iter))"
      ],
      "execution_count": null,
      "outputs": [
        {
          "output_type": "stream",
          "text": [
            "1\n",
            "2\n"
          ],
          "name": "stdout"
        }
      ]
    },
    {
      "cell_type": "code",
      "metadata": {
        "id": "fWYua_k7bsyK",
        "colab": {
          "base_uri": "https://localhost:8080/"
        },
        "outputId": "16e18c81-be37-46c5-e894-d82079f84b2e"
      },
      "source": [
        "#Get the first edge using the list of edges and the iterator on edges\n",
        "edges = list(graph.edges)\n",
        "print(edges[0])"
      ],
      "execution_count": null,
      "outputs": [
        {
          "output_type": "stream",
          "text": [
            "(1, 2)\n"
          ],
          "name": "stdout"
        }
      ]
    },
    {
      "cell_type": "code",
      "metadata": {
        "id": "zpvpU5qobsyL",
        "colab": {
          "base_uri": "https://localhost:8080/"
        },
        "outputId": "4958e386-a9d3-4582-ebbf-872800060fc4"
      },
      "source": [
        "edges_iter = iter(graph.edges)\n",
        "print(next(edges_iter))\n",
        "print(next(edges_iter))"
      ],
      "execution_count": null,
      "outputs": [
        {
          "output_type": "stream",
          "text": [
            "(1, 2)\n",
            "(2, 3)\n"
          ],
          "name": "stdout"
        }
      ]
    },
    {
      "cell_type": "markdown",
      "metadata": {
        "id": "N9w7NP-2bsyL"
      },
      "source": [
        "### Second graph"
      ]
    },
    {
      "cell_type": "code",
      "metadata": {
        "id": "s0Msyg4gbsyL"
      },
      "source": [
        "# Building the graph\n",
        "social_graph = nx.Graph(name=\"Social\")\n",
        "social_graph.add_edge('Alberto','Barbara')\n",
        "social_graph.add_edge('Alberto','Carol')\n",
        "social_graph.add_edge('Barbara','Daniel')\n",
        "social_graph.add_edge('Alberto','Daniel')"
      ],
      "execution_count": null,
      "outputs": []
    },
    {
      "cell_type": "code",
      "metadata": {
        "id": "rxRVMGSNbsyL",
        "colab": {
          "base_uri": "https://localhost:8080/",
          "height": 319
        },
        "outputId": "b9b82242-dc59-4aa6-fea0-de25a0f54c48"
      },
      "source": [
        "# Visualization\n",
        "nx.draw(social_graph, with_labels=True)\n",
        "plt.show()"
      ],
      "execution_count": null,
      "outputs": [
        {
          "output_type": "display_data",
          "data": {
            "image/png": "[encoded data removed]",
            "text/plain": [
              "<Figure size 432x288 with 1 Axes>"
            ]
          },
          "metadata": {
            "tags": []
          }
        }
      ]
    },
    {
      "cell_type": "code",
      "metadata": {
        "id": "gOONozmbbsyL",
        "colab": {
          "base_uri": "https://localhost:8080/"
        },
        "outputId": "e6c16326-9222-46f3-cf0a-0b502534e189"
      },
      "source": [
        "# Summary\n",
        "print(nx.info(social_graph))"
      ],
      "execution_count": null,
      "outputs": [
        {
          "output_type": "stream",
          "text": [
            "Name: Social\n",
            "Type: Graph\n",
            "Number of nodes: 4\n",
            "Number of edges: 4\n",
            "Average degree:   2.0000\n"
          ],
          "name": "stdout"
        }
      ]
    },
    {
      "cell_type": "code",
      "metadata": {
        "id": "kq-iOKJTbsyM",
        "colab": {
          "base_uri": "https://localhost:8080/"
        },
        "outputId": "5dfa150f-7d54-4fa8-fed6-76c341680899"
      },
      "source": [
        "# List of nodes / edges\n",
        "print(social_graph.nodes())\n",
        "print(social_graph.edges())"
      ],
      "execution_count": null,
      "outputs": [
        {
          "output_type": "stream",
          "text": [
            "['Alberto', 'Barbara', 'Carol', 'Daniel']\n",
            "[('Alberto', 'Barbara'), ('Alberto', 'Carol'), ('Alberto', 'Daniel'), ('Barbara', 'Daniel')]\n"
          ],
          "name": "stdout"
        }
      ]
    },
    {
      "cell_type": "code",
      "metadata": {
        "id": "s8IFk8TvbsyM",
        "colab": {
          "base_uri": "https://localhost:8080/"
        },
        "outputId": "cc0bce4c-28ae-4f31-929f-e55400ac392e"
      },
      "source": [
        "# Node degree\n",
        "social_graph.degree('Alberto')"
      ],
      "execution_count": null,
      "outputs": [
        {
          "output_type": "execute_result",
          "data": {
            "text/plain": [
              "3"
            ]
          },
          "metadata": {
            "tags": []
          },
          "execution_count": 18
        }
      ]
    },
    {
      "cell_type": "code",
      "metadata": {
        "id": "swVHx_6TbsyM",
        "colab": {
          "base_uri": "https://localhost:8080/"
        },
        "outputId": "037714c6-65a3-42bc-a106-49d76adb8340"
      },
      "source": [
        "# Neighbors\n",
        "for v in social_graph.neighbors('Alberto'):\n",
        "  print(v)"
      ],
      "execution_count": null,
      "outputs": [
        {
          "output_type": "stream",
          "text": [
            "Barbara\n",
            "Carol\n",
            "Daniel\n"
          ],
          "name": "stdout"
        }
      ]
    },
    {
      "cell_type": "code",
      "metadata": {
        "id": "N0-Z3NjmbsyM",
        "colab": {
          "base_uri": "https://localhost:8080/"
        },
        "outputId": "26e8d882-b3f7-44e6-c0fc-fdc66f75e7ee"
      },
      "source": [
        "# List of node degrees\n",
        "degrees = [social_graph.degree(u) for u in social_graph.nodes()]\n",
        "degrees"
      ],
      "execution_count": null,
      "outputs": [
        {
          "output_type": "execute_result",
          "data": {
            "text/plain": [
              "[3, 2, 1, 2]"
            ]
          },
          "metadata": {
            "tags": []
          },
          "execution_count": 20
        }
      ]
    },
    {
      "cell_type": "code",
      "metadata": {
        "id": "saXEjqJVbsyN",
        "colab": {
          "base_uri": "https://localhost:8080/"
        },
        "outputId": "9f459f7a-3243-4761-802b-b7a2e5f72050"
      },
      "source": [
        "# Data structure (dictionary of dictionaries)\n",
        "for u in social_graph.nodes():\n",
        "  print(u, social_graph[u])"
      ],
      "execution_count": null,
      "outputs": [
        {
          "output_type": "stream",
          "text": [
            "Alberto {'Barbara': {}, 'Carol': {}, 'Daniel': {}}\n",
            "Barbara {'Alberto': {}, 'Daniel': {}}\n",
            "Carol {'Alberto': {}}\n",
            "Daniel {'Barbara': {}, 'Alberto': {}}\n"
          ],
          "name": "stdout"
        }
      ]
    },
    {
      "cell_type": "code",
      "metadata": {
        "id": "VPK2MJv_bsyO"
      },
      "source": [
        "# Modifying the graph\n",
        "new_edges = [('Barbara','Evelyn'),('Evelyn','Daniel')]\n",
        "social_graph.add_edges_from(new_edges)"
      ],
      "execution_count": null,
      "outputs": []
    },
    {
      "cell_type": "code",
      "metadata": {
        "id": "gbrAKw2_bsyO",
        "colab": {
          "base_uri": "https://localhost:8080/",
          "height": 319
        },
        "outputId": "333ec091-3ee7-40e8-f001-d61aada7a07b"
      },
      "source": [
        "# Visualization\n",
        "nx.draw(social_graph, with_labels=True)\n",
        "plt.show()"
      ],
      "execution_count": null,
      "outputs": [
        {
          "output_type": "display_data",
          "data": {
            "image/png": "[encoded data removed]",
            "text/plain": [
              "<Figure size 432x288 with 1 Axes>"
            ]
          },
          "metadata": {
            "tags": []
          }
        }
      ]
    },
    {
      "cell_type": "markdown",
      "metadata": {
        "id": "eO_C1WiZbsyO"
      },
      "source": [
        "### Layout"
      ]
    },
    {
      "cell_type": "markdown",
      "metadata": {
        "id": "xmb7VDHybsyP"
      },
      "source": [
        "The layout allows you to visualize the graph (in 2D)."
      ]
    },
    {
      "cell_type": "code",
      "metadata": {
        "id": "c06nJD3FbsyP",
        "colab": {
          "base_uri": "https://localhost:8080/",
          "height": 319
        },
        "outputId": "994a568a-65ea-4375-cfc4-657ec06b8026"
      },
      "source": [
        "# Layout based on springs (default layout)\n",
        "pos = nx.circular_layout(social_graph)\n",
        "nx.draw(social_graph, pos,  with_labels=True)"
      ],
      "execution_count": null,
      "outputs": [
        {
          "output_type": "display_data",
          "data": {
            "image/png": "[encoded data removed]",
            "text/plain": [
              "<Figure size 432x288 with 1 Axes>"
            ]
          },
          "metadata": {
            "tags": []
          }
        }
      ]
    },
    {
      "cell_type": "code",
      "metadata": {
        "id": "lAUMbQX_bsyQ",
        "colab": {
          "base_uri": "https://localhost:8080/"
        },
        "outputId": "1f301328-9c26-4222-c1fc-9dc51faade68"
      },
      "source": [
        "print(pos)"
      ],
      "execution_count": null,
      "outputs": [
        {
          "output_type": "stream",
          "text": [
            "{'Alberto': array([1., 0.]), 'Barbara': array([0.30901695, 0.95105657]), 'Carol': array([-0.80901706,  0.58778526]), 'Daniel': array([-0.809017  , -0.58778532]), 'Evelyn': array([ 0.3090171 , -0.95105651])}\n"
          ],
          "name": "stdout"
        }
      ]
    },
    {
      "cell_type": "markdown",
      "metadata": {
        "id": "OHbc0EBbbsyQ"
      },
      "source": [
        "Observe that two instances of the spring layout are generally not the same!"
      ]
    },
    {
      "cell_type": "code",
      "metadata": {
        "id": "VhhsrdznbsyQ",
        "colab": {
          "base_uri": "https://localhost:8080/",
          "height": 319
        },
        "outputId": "39885f45-3a6e-48d5-ad3c-ae7a8f73a4a8"
      },
      "source": [
        "# Another layout\n",
        "pos = nx.shell_layout(social_graph)\n",
        "nx.draw(social_graph, pos,  with_labels=True)"
      ],
      "execution_count": null,
      "outputs": [
        {
          "output_type": "display_data",
          "data": {
            "image/png": "[encoded data removed]",
            "text/plain": [
              "<Figure size 432x288 with 1 Axes>"
            ]
          },
          "metadata": {
            "tags": []
          }
        }
      ]
    },
    {
      "cell_type": "code",
      "metadata": {
        "id": "btfOANRcbsyR",
        "colab": {
          "base_uri": "https://localhost:8080/",
          "height": 319
        },
        "outputId": "39319c56-ebb7-4dd6-f8fd-724d0fdf0028"
      },
      "source": [
        "# Changing the color of some nodes\n",
        "pos = nx.spring_layout(social_graph)\n",
        "nx.draw(social_graph, pos, with_labels=True)\n",
        "nodes = nx.draw_networkx_nodes(social_graph, pos, nodelist=['Alberto','Carol'], node_color='red')"
      ],
      "execution_count": null,
      "outputs": [
        {
          "output_type": "display_data",
          "data": {
            "image/png": "[encoded data removed]",
            "text/plain": [
              "<Figure size 432x288 with 1 Axes>"
            ]
          },
          "metadata": {
            "tags": []
          }
        }
      ]
    },
    {
      "cell_type": "markdown",
      "metadata": {
        "id": "N9AiI_XFbsyR"
      },
      "source": [
        "### Node labels"
      ]
    },
    {
      "cell_type": "markdown",
      "metadata": {
        "id": "mBWV-OGBbsyR"
      },
      "source": [
        "In most cases, the $n$ nodes are indexed from 0 to $n-1$. The name of each node (if any) is then stored as a label."
      ]
    },
    {
      "cell_type": "code",
      "metadata": {
        "id": "cP0ycYn3bsyR"
      },
      "source": [
        "# Indexing nodes\n",
        "names = list(social_graph.nodes())\n",
        "social_graph = nx.convert_node_labels_to_integers(social_graph)"
      ],
      "execution_count": null,
      "outputs": []
    },
    {
      "cell_type": "code",
      "metadata": {
        "id": "u3SBo31LbsyS"
      },
      "source": [
        "# Adding names as labels\n",
        "for i in social_graph.nodes():\n",
        "  social_graph.nodes()[i]['name'] = names[i]"
      ],
      "execution_count": null,
      "outputs": []
    },
    {
      "cell_type": "code",
      "metadata": {
        "id": "_DgqPg1ebsyS"
      },
      "source": [
        "from tabulate import tabulate"
      ],
      "execution_count": null,
      "outputs": []
    },
    {
      "cell_type": "code",
      "metadata": {
        "id": "YBx62yXTbsyS",
        "colab": {
          "base_uri": "https://localhost:8080/"
        },
        "outputId": "175dcff8-b724-4990-d060-72eb7e44605a"
      },
      "source": [
        "for u in social_graph.nodes():\n",
        "  print(u, social_graph.nodes()[u])"
      ],
      "execution_count": null,
      "outputs": [
        {
          "output_type": "stream",
          "text": [
            "0 {'name': 'Alberto'}\n",
            "1 {'name': 'Barbara'}\n",
            "2 {'name': 'Carol'}\n",
            "3 {'name': 'Daniel'}\n",
            "4 {'name': 'Evelyn'}\n"
          ],
          "name": "stdout"
        }
      ]
    },
    {
      "cell_type": "code",
      "metadata": {
        "id": "9Hu2ab2qbsyT",
        "colab": {
          "base_uri": "https://localhost:8080/",
          "height": 319
        },
        "outputId": "0fc6361a-a2ef-429b-ce77-8354e589a2a6"
      },
      "source": [
        "names = nx.get_node_attributes(social_graph, 'name')\n",
        "nx.draw(social_graph, labels=names)"
      ],
      "execution_count": null,
      "outputs": [
        {
          "output_type": "display_data",
          "data": {
            "image/png": "[encoded data removed]",
            "text/plain": [
              "<Figure size 432x288 with 1 Axes>"
            ]
          },
          "metadata": {
            "tags": []
          }
        }
      ]
    },
    {
      "cell_type": "code",
      "metadata": {
        "id": "zE-fTR20bsyT"
      },
      "source": [
        "# Adding other labels\n",
        "women = ['Barbara', 'Carol', 'Evelyn']\n",
        "\n",
        "for u in social_graph.nodes():\n",
        "  if social_graph.nodes()[u]['name'] in women:\n",
        "    social_graph.nodes()[u]['gender'] = 'Female'\n",
        "  else:\n",
        "    social_graph.nodes()[u]['gender'] = 'Male'"
      ],
      "execution_count": null,
      "outputs": []
    },
    {
      "cell_type": "code",
      "metadata": {
        "id": "OzxiPUcjbsyT",
        "colab": {
          "base_uri": "https://localhost:8080/"
        },
        "outputId": "6b4d9b33-4456-45c0-d2db-e5cbf93d1097"
      },
      "source": [
        "for u in social_graph.nodes():\n",
        "  print(u, social_graph.nodes()[u])"
      ],
      "execution_count": null,
      "outputs": [
        {
          "output_type": "stream",
          "text": [
            "0 {'name': 'Alberto', 'gender': 'Male'}\n",
            "1 {'name': 'Barbara', 'gender': 'Female'}\n",
            "2 {'name': 'Carol', 'gender': 'Female'}\n",
            "3 {'name': 'Daniel', 'gender': 'Male'}\n",
            "4 {'name': 'Evelyn', 'gender': 'Female'}\n"
          ],
          "name": "stdout"
        }
      ]
    },
    {
      "cell_type": "code",
      "metadata": {
        "id": "x8UxStbGbsyU"
      },
      "source": [
        "# Store the positions as labels\n",
        "pos = nx.spring_layout(social_graph)\n",
        "for u in social_graph.nodes():\n",
        "  social_graph.nodes()[u]['pos'] = tuple(pos[u])"
      ],
      "execution_count": null,
      "outputs": []
    },
    {
      "cell_type": "code",
      "metadata": {
        "id": "EJzEPRB-bsyU",
        "colab": {
          "base_uri": "https://localhost:8080/"
        },
        "outputId": "298edad7-59a6-4f0d-de64-a59c1e82981b"
      },
      "source": [
        "for u in social_graph.nodes():\n",
        "  print(u, social_graph.nodes()[u])"
      ],
      "execution_count": null,
      "outputs": [
        {
          "output_type": "stream",
          "text": [
            "0 {'name': 'Alberto', 'gender': 'Male', 'pos': (0.16848425584742618, -0.325971035380057)}\n",
            "1 {'name': 'Barbara', 'gender': 'Female', 'pos': (0.08180470899451013, 0.38026351679435627)}\n",
            "2 {'name': 'Carol', 'gender': 'Female', 'pos': (0.5171775460748153, -1.0)}\n",
            "3 {'name': 'Daniel', 'gender': 'Male', 'pos': (-0.3577468471722941, 0.1532269546255161)}\n",
            "4 {'name': 'Evelyn', 'gender': 'Female', 'pos': (-0.4097196637444576, 0.7924805639601843)}\n"
          ],
          "name": "stdout"
        }
      ]
    },
    {
      "cell_type": "code",
      "metadata": {
        "id": "LymsxG5fbsyU",
        "colab": {
          "base_uri": "https://localhost:8080/",
          "height": 319
        },
        "outputId": "756638f1-b6c4-4ee6-991a-fc0c7aea04a9"
      },
      "source": [
        "pos = nx.get_node_attributes(social_graph, 'pos')\n",
        "nx.draw(social_graph, pos, with_labels=True)"
      ],
      "execution_count": null,
      "outputs": [
        {
          "output_type": "display_data",
          "data": {
            "image/png": "[encoded data removed]",
            "text/plain": [
              "<Figure size 432x288 with 1 Axes>"
            ]
          },
          "metadata": {
            "tags": []
          }
        }
      ]
    },
    {
      "cell_type": "markdown",
      "metadata": {
        "id": "yxxOZ6GPbsyV"
      },
      "source": [
        "### Edge labels"
      ]
    },
    {
      "cell_type": "code",
      "metadata": {
        "id": "RNJ_MtAfbsyV"
      },
      "source": [
        "# Adding weights\n",
        "for u,v in social_graph.edges():\n",
        "  social_graph[u][v]['weight'] = np.random.randint(1,10)"
      ],
      "execution_count": null,
      "outputs": []
    },
    {
      "cell_type": "code",
      "metadata": {
        "id": "qpAg_JApbsyV",
        "colab": {
          "base_uri": "https://localhost:8080/"
        },
        "outputId": "7734bd24-d4d0-47ee-f11a-599e4e03b818"
      },
      "source": [
        "# Data structure (dictionary of dictionaries)\n",
        "for u in social_graph.nodes():\n",
        "  print(u, social_graph[u])"
      ],
      "execution_count": null,
      "outputs": [
        {
          "output_type": "stream",
          "text": [
            "0 {1: {'weight': 5}, 2: {'weight': 1}, 3: {'weight': 4}}\n",
            "1 {0: {'weight': 5}, 3: {'weight': 8}, 4: {'weight': 4}}\n",
            "2 {0: {'weight': 1}}\n",
            "3 {0: {'weight': 4}, 1: {'weight': 8}, 4: {'weight': 4}}\n",
            "4 {1: {'weight': 4}, 3: {'weight': 4}}\n"
          ],
          "name": "stdout"
        }
      ]
    },
    {
      "cell_type": "code",
      "metadata": {
        "id": "Ghvmv2snbsyV",
        "colab": {
          "base_uri": "https://localhost:8080/",
          "height": 248
        },
        "outputId": "651b1240-edc0-41f7-8b36-82a4cfe4b4c1"
      },
      "source": [
        "# Visualization with edge weights\n",
        "weights = nx.get_edge_attributes(social_graph, 'weight')\n",
        "nx.draw_networkx_edge_labels(social_graph, pos, edge_labels=weights)\n",
        "nx.draw(social_graph, pos, labels=names)"
      ],
      "execution_count": null,
      "outputs": [
        {
          "output_type": "display_data",
          "data": {
            "image/png": "[encoded data removed]",
            "text/plain": [
              "<Figure size 432x288 with 1 Axes>"
            ]
          },
          "metadata": {
            "tags": []
          }
        }
      ]
    },
    {
      "cell_type": "code",
      "metadata": {
        "id": "SdgImJsWbsyW",
        "colab": {
          "base_uri": "https://localhost:8080/",
          "height": 319
        },
        "outputId": "9a132917-6d49-47e6-a724-320d33fe0a0e"
      },
      "source": [
        "# Visualization with edge widths = edge weights\n",
        "weights_list = [weights[e] for e in social_graph.edges()]\n",
        "nx.draw(social_graph, pos, labels=names, width=weights_list, edge_color='gray')"
      ],
      "execution_count": null,
      "outputs": [
        {
          "output_type": "display_data",
          "data": {
            "image/png": "[encoded data removed]",
            "text/plain": [
              "<Figure size 432x288 with 1 Axes>"
            ]
          },
          "metadata": {
            "tags": []
          }
        }
      ]
    },
    {
      "cell_type": "code",
      "metadata": {
        "id": "87_Dg97bbsyW"
      },
      "source": [
        "# Adding edge labels\n",
        "categories = ['Family', 'Work', 'Friend']\n",
        "for u,v in social_graph.edges():\n",
        "  social_graph[u][v]['category'] = str(np.random.choice(categories))"
      ],
      "execution_count": null,
      "outputs": []
    },
    {
      "cell_type": "code",
      "metadata": {
        "id": "aLrfKZAabsyW",
        "colab": {
          "base_uri": "https://localhost:8080/"
        },
        "outputId": "a6e8b193-f783-4532-da53-17dd18796dd5"
      },
      "source": [
        "# Data structure (dictionary of dictionaries)\n",
        "for u in social_graph.nodes():\n",
        "  print(u, social_graph[u])"
      ],
      "execution_count": null,
      "outputs": [
        {
          "output_type": "stream",
          "text": [
            "0 {1: {'weight': 5, 'category': 'Friend'}, 2: {'weight': 1, 'category': 'Friend'}, 3: {'weight': 4, 'category': 'Friend'}}\n",
            "1 {0: {'weight': 5, 'category': 'Friend'}, 3: {'weight': 8, 'category': 'Family'}, 4: {'weight': 4, 'category': 'Family'}}\n",
            "2 {0: {'weight': 1, 'category': 'Friend'}}\n",
            "3 {0: {'weight': 4, 'category': 'Friend'}, 1: {'weight': 8, 'category': 'Family'}, 4: {'weight': 4, 'category': 'Friend'}}\n",
            "4 {1: {'weight': 4, 'category': 'Family'}, 3: {'weight': 4, 'category': 'Friend'}}\n"
          ],
          "name": "stdout"
        }
      ]
    },
    {
      "cell_type": "code",
      "metadata": {
        "id": "IizhaDrebsyX",
        "colab": {
          "base_uri": "https://localhost:8080/",
          "height": 319
        },
        "outputId": "c170c2aa-aa72-4b77-d07c-2b900305fe68"
      },
      "source": [
        "# Visualization with categories\n",
        "nx.draw(social_graph, pos, labels=names, node_color='grey')\n",
        "color_map = {'Family':'b','Work':'r','Friend':'g'}\n",
        "categories = nx.get_edge_attributes(social_graph,'category')\n",
        "\n",
        "edge_list = {}\n",
        "for u, category in categories.items():\n",
        "  edge_list.setdefault(category,[]).append(u)\n",
        "\n",
        "for category in edge_list:\n",
        "  edges = nx.draw_networkx_edges(social_graph, pos, edgelist=edge_list[category], width=4, edge_color=color_map[category])"
      ],
      "execution_count": null,
      "outputs": [
        {
          "output_type": "display_data",
          "data": {
            "image/png": "[encoded data removed]",
            "text/plain": [
              "<Figure size 432x288 with 1 Axes>"
            ]
          },
          "metadata": {
            "tags": []
          }
        }
      ]
    },
    {
      "cell_type": "markdown",
      "metadata": {
        "id": "p6EGuVYLbsyX"
      },
      "source": [
        "### Directed graphs"
      ]
    },
    {
      "cell_type": "code",
      "metadata": {
        "id": "VqdaJ18JbsyX"
      },
      "source": [
        "# Building the graph\n",
        "edges = [(1,3),(3,2),(1,3),(1,4),(3,5),(2,4),(2,5),(4,3),(5,4),(5,6),(6,1)]\n",
        "digraph = nx.from_edgelist(edges, create_using=nx.DiGraph())\n",
        "digraph.graph['name'] = \"A directed graph\""
      ],
      "execution_count": null,
      "outputs": []
    },
    {
      "cell_type": "code",
      "metadata": {
        "id": "r3v6V8ItbsyY",
        "colab": {
          "base_uri": "https://localhost:8080/"
        },
        "outputId": "3282429c-9b3c-4692-ba55-a71161abbfc9"
      },
      "source": [
        "# Summary (observe the type of graph)\n",
        "print(nx.info(digraph))"
      ],
      "execution_count": null,
      "outputs": [
        {
          "output_type": "stream",
          "text": [
            "Name: A directed graph\n",
            "Type: DiGraph\n",
            "Number of nodes: 6\n",
            "Number of edges: 10\n",
            "Average in degree:   1.6667\n",
            "Average out degree:   1.6667\n"
          ],
          "name": "stdout"
        }
      ]
    },
    {
      "cell_type": "code",
      "metadata": {
        "id": "U0AcZhltbsyY",
        "colab": {
          "base_uri": "https://localhost:8080/",
          "height": 319
        },
        "outputId": "b2a290ea-21f4-4a7b-e590-341c1c01e012"
      },
      "source": [
        "# Visualization\n",
        "nx.draw(digraph,with_labels = True)\n",
        "plt.show()"
      ],
      "execution_count": null,
      "outputs": [
        {
          "output_type": "display_data",
          "data": {
            "image/png": "[encoded data removed]",
            "text/plain": [
              "<Figure size 432x288 with 1 Axes>"
            ]
          },
          "metadata": {
            "tags": []
          }
        }
      ]
    },
    {
      "cell_type": "markdown",
      "metadata": {
        "id": "eYYbhronbsyY"
      },
      "source": [
        "### Writing and reading graphs\n",
        "\n",
        "The `networkx` package allows you to write and read graphs in many formats. We will use the `graphml` format. "
      ]
    },
    {
      "cell_type": "code",
      "metadata": {
        "id": "PzZE1bFvbsyZ"
      },
      "source": [
        "#Replace the label `pos` by two labels, one per coordinate.\n",
        "pos = nx.spring_layout(digraph)\n",
        "\n",
        "for u, coordinate in pos.items():\n",
        "  digraph.nodes(data=True)[u]['pos_x'] = float(coordinate[0])\n",
        "  digraph.nodes(data=True)[u]['pos_y'] = float(coordinate[1])"
      ],
      "execution_count": null,
      "outputs": []
    },
    {
      "cell_type": "code",
      "metadata": {
        "id": "wMkcKccrbsya"
      },
      "source": [
        "#Save the graph in graphml format.\n",
        "nx.write_graphml(digraph, \"digraph.graphml\")"
      ],
      "execution_count": null,
      "outputs": []
    },
    {
      "cell_type": "code",
      "metadata": {
        "id": "IMH9-thObsya",
        "colab": {
          "base_uri": "https://localhost:8080/"
        },
        "outputId": "3e20ac7b-2ffc-41ab-eed0-8cd5e59f0cba"
      },
      "source": [
        "#Read the graph (use the type `int` for node indices) and check the labels.\n",
        "graph = nx.read_graphml(\"digraph.graphml\", node_type = int)\n",
        "print(nx.info(graph))\n",
        "print(graph.nodes)"
      ],
      "execution_count": null,
      "outputs": [
        {
          "output_type": "stream",
          "text": [
            "Name: A directed graph\n",
            "Type: DiGraph\n",
            "Number of nodes: 6\n",
            "Number of edges: 10\n",
            "Average in degree:   1.6667\n",
            "Average out degree:   1.6667\n",
            "[1, 3, 2, 4, 5, 6]\n"
          ],
          "name": "stdout"
        }
      ]
    },
    {
      "cell_type": "markdown",
      "metadata": {
        "id": "_El6k8XLbsya"
      },
      "source": [
        "## 2. Datasets\n",
        "\n",
        "You will now work on two real datasets, OpenStreet and Openflights, to be downloaded [here](https://perso.telecom-paristech.fr/bonald/graphs/)."
      ]
    },
    {
      "cell_type": "markdown",
      "metadata": {
        "id": "FADPazDSbsya"
      },
      "source": [
        "### OpenStreet"
      ]
    },
    {
      "cell_type": "markdown",
      "metadata": {
        "id": "jl5x6whGbsyb"
      },
      "source": [
        "OpenStreet is a graph of streets in the center of Paris. Nodes correspond to intersections. The graph is directed due to one-way streets. Weights correspond to distances between intersections  (in meters). Source: [Open Street Map](http://openstreetmap.fr)"
      ]
    },
    {
      "cell_type": "code",
      "metadata": {
        "id": "exArKtQPbsyb"
      },
      "source": [
        "# First download the datasets!\n",
        "openstreet = nx.read_graphml(\"openstreet.graphml\", node_type = int)"
      ],
      "execution_count": null,
      "outputs": []
    },
    {
      "cell_type": "code",
      "metadata": {
        "id": "0vIjOzsjbsyb"
      },
      "source": [
        ""
      ],
      "execution_count": null,
      "outputs": []
    },
    {
      "cell_type": "code",
      "metadata": {
        "id": "j_YzD-WKbsyb"
      },
      "source": [
        "# Get positions\n"
      ],
      "execution_count": null,
      "outputs": []
    },
    {
      "cell_type": "code",
      "metadata": {
        "id": "n2MHsFLObsyc"
      },
      "source": [
        "# Visualization\n"
      ],
      "execution_count": null,
      "outputs": []
    },
    {
      "cell_type": "code",
      "metadata": {
        "id": "hQCdgrb6bsyc"
      },
      "source": [
        "# A shortest path \n"
      ],
      "execution_count": null,
      "outputs": []
    },
    {
      "cell_type": "code",
      "metadata": {
        "id": "n8fJbHosbsyc"
      },
      "source": [
        "# Visualization\n"
      ],
      "execution_count": null,
      "outputs": []
    },
    {
      "cell_type": "code",
      "metadata": {
        "id": "HxMgghDAbsyd"
      },
      "source": [
        "#Show the shortest path from Pantheon to Gare Saint Lazare.\n",
        "\n",
        "\n",
        "#Filling the edges vector\n",
        "\n",
        "#Labelling the shortest_path and all the others nodes\n"
      ],
      "execution_count": null,
      "outputs": []
    },
    {
      "cell_type": "code",
      "metadata": {
        "id": "MRtMWp4Nbsyd"
      },
      "source": [
        ""
      ],
      "execution_count": null,
      "outputs": []
    },
    {
      "cell_type": "markdown",
      "metadata": {
        "id": "oaQSuqOWbsyd"
      },
      "source": [
        "### OpenFlights"
      ]
    },
    {
      "cell_type": "markdown",
      "metadata": {
        "id": "OqFM795bbsye"
      },
      "source": [
        "OpenFlights is the graph of the main international flights. Nodes are airports. The graph is undirected (all flights are bidirectional). Weights correspond to the number of daily flights between airports. Source: [Open Flight](http://openflights.org)"
      ]
    },
    {
      "cell_type": "code",
      "metadata": {
        "id": "ODnBpI7Fbsye"
      },
      "source": [
        "openflights = nx.read_graphml(\"openflights.graphml\", node_type = int)"
      ],
      "execution_count": null,
      "outputs": []
    },
    {
      "cell_type": "code",
      "metadata": {
        "id": "LMIWDC7Ibsye"
      },
      "source": [
        ""
      ],
      "execution_count": null,
      "outputs": []
    },
    {
      "cell_type": "code",
      "metadata": {
        "id": "BLgJA_ETbsyi"
      },
      "source": [
        "# Get node from (partial) name\n"
      ],
      "execution_count": null,
      "outputs": []
    },
    {
      "cell_type": "code",
      "metadata": {
        "id": "cwAB11KZbsyj"
      },
      "source": [
        "# Get positions\n"
      ],
      "execution_count": null,
      "outputs": []
    },
    {
      "cell_type": "code",
      "metadata": {
        "scrolled": false,
        "id": "AnqEw41Absyj"
      },
      "source": [
        "# Visualization\n"
      ],
      "execution_count": null,
      "outputs": []
    },
    {
      "cell_type": "code",
      "metadata": {
        "id": "KHahF49Hbsyj"
      },
      "source": [
        "#List the top-10 airports in number of flights and show them on the map.\n",
        "\n",
        "from collections import Counter\n"
      ],
      "execution_count": null,
      "outputs": []
    },
    {
      "cell_type": "code",
      "metadata": {
        "id": "mo5tAoJWbsyk"
      },
      "source": [
        ""
      ],
      "execution_count": null,
      "outputs": []
    },
    {
      "cell_type": "code",
      "metadata": {
        "id": "Je5IuBJYbsyk"
      },
      "source": [
        ""
      ],
      "execution_count": null,
      "outputs": []
    },
    {
      "cell_type": "code",
      "metadata": {
        "id": "m_uZGLRybsyk"
      },
      "source": [
        "# Visualization\n"
      ],
      "execution_count": null,
      "outputs": []
    },
    {
      "cell_type": "code",
      "metadata": {
        "id": "vjIJ1Dr_bsyl"
      },
      "source": [
        "#Sorted by centrality degree: The degree centrality for a node v is the fraction of nodes it is connected to\n",
        "\n",
        "#We sort the nodes by degree centrality: The degree centrality for a node v is the fraction of nodes it is connected to\n",
        "\n",
        "\n",
        "#We keep only the 10 biggest airports node ids and the 100 biggest airports degree centrality\n"
      ],
      "execution_count": null,
      "outputs": []
    },
    {
      "cell_type": "code",
      "metadata": {
        "id": "nCJ6JMGnbsyl"
      },
      "source": [
        "#Visualization    \n"
      ],
      "execution_count": null,
      "outputs": []
    },
    {
      "cell_type": "markdown",
      "metadata": {
        "id": "1EFVQ_vebsym"
      },
      "source": [
        "#### Which proportion of traffic is generated by the top-100 airports?"
      ]
    },
    {
      "cell_type": "code",
      "metadata": {
        "id": "gUc_Glqwbsym"
      },
      "source": [
        ""
      ],
      "execution_count": null,
      "outputs": []
    },
    {
      "cell_type": "code",
      "metadata": {
        "id": "CqFpMhLlbsym"
      },
      "source": [
        ""
      ],
      "execution_count": null,
      "outputs": []
    },
    {
      "cell_type": "code",
      "metadata": {
        "id": "MATJSi-Ibsym"
      },
      "source": [
        ""
      ],
      "execution_count": null,
      "outputs": []
    },
    {
      "cell_type": "markdown",
      "metadata": {
        "id": "bU_6NyVQbsyn"
      },
      "source": [
        "#### List the top-10 airports in number of flights and show them on the map."
      ]
    },
    {
      "cell_type": "code",
      "metadata": {
        "id": "wKAwwD-Qbsyn"
      },
      "source": [
        ""
      ],
      "execution_count": null,
      "outputs": []
    },
    {
      "cell_type": "code",
      "metadata": {
        "id": "PVBjyyUnbsyn"
      },
      "source": [
        "# Visualization\n"
      ],
      "execution_count": null,
      "outputs": []
    },
    {
      "cell_type": "markdown",
      "metadata": {
        "id": "X5vIqAGPbsyn"
      },
      "source": [
        "#### Which proportion of traffic is generated by the top-100 airports?"
      ]
    },
    {
      "cell_type": "code",
      "metadata": {
        "id": "xJBds4UEbsyn"
      },
      "source": [
        ""
      ],
      "execution_count": null,
      "outputs": []
    },
    {
      "cell_type": "markdown",
      "metadata": {
        "id": "ukYD3JBObsyo"
      },
      "source": [
        "## 3. Node and edge sampling"
      ]
    },
    {
      "cell_type": "markdown",
      "metadata": {
        "id": "jeFhqVWBbsyo"
      },
      "source": [
        "In the rest of the lab, we work on the OpenFlights dataset."
      ]
    },
    {
      "cell_type": "code",
      "metadata": {
        "id": "HteCve-ybsyo"
      },
      "source": [
        "from tabulate import tabulate\n",
        "def print_name_degree(graph, node):\n",
        "    res = []\n",
        "    name = graph.nodes()[node]['name']\n",
        "    degree = graph.degree()[node]\n",
        "    res.append([node, name, degree])\n",
        "    print(tabulate(res))"
      ],
      "execution_count": null,
      "outputs": []
    },
    {
      "cell_type": "code",
      "metadata": {
        "id": "LAekGpJ9bsyp"
      },
      "source": [
        "#10 random nodes\n",
        "# Shuffling nodes\n"
      ],
      "execution_count": null,
      "outputs": []
    },
    {
      "cell_type": "code",
      "metadata": {
        "id": "rzNkPuCRbsyp"
      },
      "source": [
        "#10 random neighbors\n",
        "# Shuffling edges\n"
      ],
      "execution_count": null,
      "outputs": []
    },
    {
      "cell_type": "code",
      "metadata": {
        "id": "CyQJ4saPbsyp"
      },
      "source": [
        ""
      ],
      "execution_count": null,
      "outputs": []
    },
    {
      "cell_type": "markdown",
      "metadata": {
        "id": "4xqD11H3bsyp"
      },
      "source": [
        "* Compute the mean and standard deviation of the degrees.\n",
        "* Display the degree distribution. Can it be considered as a power law?\n",
        "* Compute the mean and standard deviation of the degree of a random neighbor.\n",
        "* Compute the mean and standard deviation of the degree of a node sampled from the edges. \n",
        "* Interpret the results.\n",
        "* (optional) Do the same with nodes / edges sampled in proportion to their weights and interpret the results."
      ]
    },
    {
      "cell_type": "code",
      "metadata": {
        "id": "qUvmgUG3bsyp"
      },
      "source": [
        ""
      ],
      "execution_count": null,
      "outputs": []
    },
    {
      "cell_type": "code",
      "metadata": {
        "id": "05GRHbdtbsyq"
      },
      "source": [
        ""
      ],
      "execution_count": null,
      "outputs": []
    },
    {
      "cell_type": "code",
      "metadata": {
        "id": "SC08RbmNbsyq"
      },
      "source": [
        ""
      ],
      "execution_count": null,
      "outputs": []
    }
  ]
}